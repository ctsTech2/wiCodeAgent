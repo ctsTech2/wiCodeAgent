{
 "cells": [
  {
   "cell_type": "code",
   "execution_count": 1,
   "metadata": {},
   "outputs": [
    {
     "name": "stderr",
     "output_type": "stream",
     "text": [
      "c:\\Users\\tempj\\anaconda3\\envs\\wiCodeAgentEnv\\lib\\site-packages\\pinecone\\data\\index.py:1: TqdmWarning: IProgress not found. Please update jupyter and ipywidgets. See https://ipywidgets.readthedocs.io/en/stable/user_install.html\n",
      "  from tqdm.autonotebook import tqdm\n"
     ]
    }
   ],
   "source": [
    "import os\n",
    "import openai\n",
    "import langchain\n",
    "import streamlit as st\n",
    "import pinecone\n",
    "import langchain_pinecone\n",
    "from pinecone import Pinecone, ServerlessSpec\n",
    "from dotenv import load_dotenv\n",
    "from langchain_openai import OpenAIEmbeddings, ChatOpenAI\n",
    "from langchain_core.prompts import ChatPromptTemplate\n",
    "from langchain_core.output_parsers import StrOutputParser\n",
    "from langchain_core.runnables import RunnablePassthrough\n",
    "from langchain_pinecone import PineconeVectorStore\n",
    "from langchain.chains.question_answering import load_qa_chain\n",
    "from openai import OpenAI"
   ]
  },
  {
   "cell_type": "code",
   "execution_count": 2,
   "metadata": {},
   "outputs": [
    {
     "data": {
      "text/plain": [
       "True"
      ]
     },
     "execution_count": 2,
     "metadata": {},
     "output_type": "execute_result"
    }
   ],
   "source": [
    "# Load environment variables\n",
    "load_dotenv()"
   ]
  },
  {
   "cell_type": "code",
   "execution_count": 3,
   "metadata": {},
   "outputs": [],
   "source": [
    "# Pinecone and OpenAI setup\n",
    "PINECONE_API_KEY = os.getenv('PINECONE_API_KEY')\n",
    "OPENAI_API_KEY = os.getenv('OPENAI_API_KEY')\n",
    "PINECONE_INDEX_NAME = os.getenv('PINECONE_INDEX_NAME')"
   ]
  },
  {
   "cell_type": "code",
   "execution_count": 4,
   "metadata": {},
   "outputs": [],
   "source": [
    "def initialize_components():\n",
    "    # Initialize the Pinecone vector store\n",
    "    pc_api_key = os.getenv('PINECONE_API_KEY')\n",
    "    pc_index_name = os.getenv('PINECONE_INDEX_NAME')\n",
    "    pc = Pinecone(api_key=pc_api_key)\n",
    "    index = pc.Index(pc_index_name)\n",
    "    \n",
    "    # Initialize OpenAI embeddings and chat model\n",
    "    api_key = os.getenv('OPENAI_API_KEY')\n",
    "    client = OpenAI(api_key=api_key)\n",
    "    embeddings = OpenAIEmbeddings(model=\"text-embedding-3-small\")\n",
    "    \n",
    "    # Creating the vector store with Pinecone and the embeddings\n",
    "    vectorstore = PineconeVectorStore.from_existing_index(\n",
    "        index_name=pc_index_name,\n",
    "        embedding=embeddings\n",
    "    )        \n",
    "    \n",
    "    return embeddings, vectorstore, api_key"
   ]
  },
  {
   "cell_type": "code",
   "execution_count": 16,
   "metadata": {},
   "outputs": [],
   "source": [
    "def get_conversational_chain(api_key):\n",
    "    template = \"\"\"\n",
    "    Answer the question as detailed as possible from the provided context, make sure to provide all the details, if the answer is not in\n",
    "    provided context just say, \"answer is not available in the context\", don't provide the wrong answer\\n\\n\n",
    "    Context:\\n {context}?\\n\n",
    "    Question: \\n{question}\\n\n",
    "    \n",
    "    \n",
    "    Answer:\n",
    "    \"\"\"\n",
    "    chat_model = ChatOpenAI(openai_api_key=api_key, model_name='gpt-4-0125-preview', temperature=0.6)\n",
    "    prompt = ChatPromptTemplate.from_template(template)\n",
    "    chain = load_qa_chain(chat_model, chain_type=\"stuff\", prompt=prompt)\n",
    "    return chain"
   ]
  },
  {
   "cell_type": "code",
   "execution_count": 20,
   "metadata": {},
   "outputs": [],
   "source": [
    "def user_input(user_question, api_key, vectorstore, embeddings):\n",
    "    retriever = vectorstore.as_retriever(search_type=\"similarity\", search_kwargs={\"k\": 6})\n",
    "    docs = retriever.invoke(user_question)\n",
    "    chain = get_conversational_chain(api_key)\n",
    "    response = chain({\"input_documents\": docs, \"question\": user_question}, return_only_outputs=True)\n",
    "    return response\n"
   ]
  },
  {
   "cell_type": "code",
   "execution_count": 23,
   "metadata": {},
   "outputs": [
    {
     "name": "stdout",
     "output_type": "stream",
     "text": [
      "{'output_text': 'The live load for garage floors is 50 pounds per square foot.'}\n"
     ]
    }
   ],
   "source": [
    "embeddings, vectorstore, api_key = initialize_components()\n",
    "user_question = \"What's the live load for garage floors?\"\n",
    "\n",
    "response = user_input(user_question, api_key, vectorstore, embeddings)\n",
    "\n",
    "# Now print the response variable\n",
    "print(response)"
   ]
  }
 ],
 "metadata": {
  "kernelspec": {
   "display_name": "wiCodeAgentEnv",
   "language": "python",
   "name": "python3"
  },
  "language_info": {
   "codemirror_mode": {
    "name": "ipython",
    "version": 3
   },
   "file_extension": ".py",
   "mimetype": "text/x-python",
   "name": "python",
   "nbconvert_exporter": "python",
   "pygments_lexer": "ipython3",
   "version": "3.10.13"
  }
 },
 "nbformat": 4,
 "nbformat_minor": 2
}
